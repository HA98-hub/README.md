{
  "metadata": {
    "kernelspec": {
      "name": "python",
      "display_name": "Python (Pyodide)",
      "language": "python"
    },
    "language_info": {
      "codemirror_mode": {
        "name": "python",
        "version": 3
      },
      "file_extension": ".py",
      "mimetype": "text/x-python",
      "name": "python",
      "nbconvert_exporter": "python",
      "pygments_lexer": "ipython3",
      "version": "3.8"
    }
  },
  "nbformat_minor": 5,
  "nbformat": 4,
  "cells": [
    {
      "id": "8544a457-1db5-40ac-af72-6a5bf5609598",
      "cell_type": "markdown",
      "source": "# Data Sccience Tools and Ecosystems",
      "metadata": {}
    },
    {
      "id": "bd71c419-576b-45ad-b98e-46c51f3b8596",
      "cell_type": "markdown",
      "source": "In this notebook, Data Science Tools and Ecosystem are summarized.",
      "metadata": {}
    },
    {
      "id": "5c499f45-040f-4864-839f-f319ff0d8f1d",
      "cell_type": "markdown",
      "source": "Some of the popular languages that Data Scientists use are:\n1. Python.\n2. R\n3. Java.",
      "metadata": {}
    },
    {
      "id": "19f10be5-c1f6-499f-b13f-08e12e6b6590",
      "cell_type": "markdown",
      "source": "Some of the commonly used libraries used by Data Scientists include:\n1. Pandas in Python.\n2. dplyr and caret in R\n3. numpy and scikit-learn in python.",
      "metadata": {}
    },
    {
      "id": "1fc92b2b-b58f-4309-b1a6-ae6fe3f6a3be",
      "cell_type": "markdown",
      "source": "|Data science tools|\n|------------------|\n|Jupyter Notebook|\n| RStudio|\n| Apache Zeppelin|",
      "metadata": {}
    },
    {
      "id": "89cbb45d-7484-4224-9d72-b737ca36ab1b",
      "cell_type": "markdown",
      "source": "### Below are a few examples of evaluating arithmetic expressions in Python",
      "metadata": {}
    },
    {
      "id": "da1fdec0-8d0f-4082-9034-12af22d9a93b",
      "cell_type": "code",
      "source": "# This a simple arithmetic expression to mutiply then add integers\n(3*4)+5",
      "metadata": {
        "trusted": true
      },
      "outputs": [
        {
          "execution_count": 1,
          "output_type": "execute_result",
          "data": {
            "text/plain": "17"
          },
          "metadata": {}
        }
      ],
      "execution_count": 1
    },
    {
      "id": "5e70ad60-9f57-46d6-8d2e-6af6ae01ea9b",
      "cell_type": "code",
      "source": "#This will convert 200 minutes to hours by diving by 60\nminutes = 200\nhours = minutes/60\nprint(hours)",
      "metadata": {
        "trusted": true
      },
      "outputs": [
        {
          "name": "stdout",
          "output_type": "stream",
          "text": "3.3333333333333335\n"
        }
      ],
      "execution_count": 2
    },
    {
      "id": "0a1bee4d-6250-40c5-a98c-a9ddc8723530",
      "cell_type": "markdown",
      "source": "**Objectives**\n- List popular languages for Data Science.\n- List popular libraries for data science.\n- List populat tools for data science.",
      "metadata": {}
    },
    {
      "id": "66567782-13bc-4a7b-8b74-df6a8f41b12c",
      "cell_type": "markdown",
      "source": "## Authors\nHadeel Alhalabi",
      "metadata": {}
    },
    {
      "id": "6d09b063-6f3e-4cef-8a2d-bbf02c4f1711",
      "cell_type": "code",
      "source": "",
      "metadata": {
        "trusted": true
      },
      "outputs": [],
      "execution_count": null
    }
  ]
}